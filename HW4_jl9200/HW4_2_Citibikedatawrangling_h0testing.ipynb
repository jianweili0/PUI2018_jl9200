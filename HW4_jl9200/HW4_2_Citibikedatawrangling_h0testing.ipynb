{
 "cells": [
  {
   "cell_type": "code",
   "execution_count": 3,
   "metadata": {},
   "outputs": [
    {
     "name": "stdout",
     "output_type": "stream",
     "text": [
      "Populating the interactive namespace from numpy and matplotlib\n",
      "/nfshome/jl9200/PUIdata\n"
     ]
    }
   ],
   "source": [
    "from __future__ import print_function,division\n",
    "import pylab as pl\n",
    "\n",
    "import pandas as pd\n",
    "import numpy as np\n",
    "import os\n",
    "%pylab inline\n",
    "\n",
    "\n",
    "import os\n",
    "puidata = os.getenv(\"PUIDATA\")\n",
    "if puidata is None:\n",
    "    puidata = os.environ[\"PUIDATA\"] =\"%S/puidata\"%os.getenv(\"HOME\")\n",
    "if os.getenv ('PUI2016') is None:\n",
    "    print (\"Must set env variable PUI2016\")\n",
    "\n",
    "print(os.getenv(\"PUIDATA\"))\n",
    "\n"
   ]
  },
  {
   "cell_type": "markdown",
   "metadata": {},
   "source": [
    "# IDEA:\n",
    "#### young women are likely than young men to choose biking in weekends\n",
    "\n"
   ]
  },
  {
   "cell_type": "markdown",
   "metadata": {},
   "source": [
    "# NULL HYPOTHESIS:\n",
    "The proportion of young women ( age under 35) biking on weekends is the same or higher than the proportion of young men (age under 35)biking on weekend\n",
    "\n",
    "I will use a significance level  $\\alpha=0.05$\n",
    "\n"
   ]
  },
  {
   "cell_type": "code",
   "execution_count": 4,
   "metadata": {},
   "outputs": [],
   "source": [
    "def getCitiBikeCSV(datestring):\n",
    "    print (\"Loading:...\",datestring)\n",
    "    if not os.path.isfile(os.getenv(\"PUIDATA\") + \"/\" + datestring +\"-citibike-tripdata.csv\"):\n",
    "        if os.path.isfile(datestring + \"-citibike-tripdata.csv\"):\n",
    "\n",
    "            # move to the current dir\n",
    "            if os.system(\"mv \" + datestring + \"-citibike-tripdata.csv \" + os.getenv(\"PUIDATA\")):\n",
    "                print(\"Error moving file! Please check the file!\")\n",
    "        # then start looking for the zip file\n",
    "        else:\n",
    "            if not os.path.isfile(os.getenv(\"PUIDATA\") + \"/\" + datestring + \"-citibike-tripdata.zip\"):\n",
    "\n",
    "                if not os.path.isfile(datestring + \"-citibike-tripdata.zip\"):\n",
    "                    print(1)\n",
    "                    os.system(\"curl -O https://s3.amazonaws.com/tripdata/\" + datestring + \"-citibike-tripdata.zip\")\n",
    "                    print(2)\n",
    "                ### moving item, I can use os.system()functions to run bash commands with arguments\n",
    "                os.system('mv ' + datestring + \"-citibike-tripdata.zip \" + os.getenv(\"PUIDATA\"))\n",
    "            ## unzip the csv\n",
    "            \n",
    "            os.system(\"unzip \" + os.getenv(\"PUIDATA\") + '/' + datestring + \"-citibike-tripdata.zip\")\n",
    "            print(3)\n",
    "\n",
    "            ## if older than 2014  there will be a different name structure.\n",
    "\n",
    "            if '2014' in datestring:\n",
    "                print('wait!')\n",
    "                os.system('mv '+  datestring[:4] + '-' + datestring[4:] + '\\ -\\ Citi\\ Bike\\ trip\\ data.csv ' + \n",
    "                          os.getenv(\"PUIDATA\"))\n",
    "            os.system('mv ' + datestring + '-citibike-tripdata.csv '+os.getenv('PUIDATA'))\n",
    "    ###\n",
    "    if not os.path.isfile(os.getenv(\"PUIDATA\") + '/' + datestring + '-citibike-tripdata.csv'):\n",
    "        print (\"Ouch! the file is still not there!\")\n",
    "    else:\n",
    "        print (\"file is here, continue\")"
   ]
  },
  {
   "cell_type": "code",
   "execution_count": 5,
   "metadata": {},
   "outputs": [
    {
     "name": "stdout",
     "output_type": "stream",
     "text": [
      "Loading:... 201502\n",
      "file is here, continue\n"
     ]
    }
   ],
   "source": [
    "datestring = '201502'\n",
    "getCitiBikeCSV(datestring)"
   ]
  },
  {
   "cell_type": "code",
   "execution_count": 6,
   "metadata": {},
   "outputs": [],
   "source": [
    "# make a pandas database\n",
    "\n",
    "df = pd.read_csv(os.getenv(\"PUIDATA\")+'/'+datestring+'-citibike-tripdata.csv')"
   ]
  },
  {
   "cell_type": "code",
   "execution_count": 7,
   "metadata": {},
   "outputs": [
    {
     "data": {
      "text/html": [
       "<div>\n",
       "<table border=\"1\" class=\"dataframe\">\n",
       "  <thead>\n",
       "    <tr style=\"text-align: right;\">\n",
       "      <th></th>\n",
       "      <th>birth year</th>\n",
       "      <th>gender</th>\n",
       "      <th>date</th>\n",
       "    </tr>\n",
       "  </thead>\n",
       "  <tbody>\n",
       "    <tr>\n",
       "      <th>0</th>\n",
       "      <td>1978.0</td>\n",
       "      <td>2</td>\n",
       "      <td>2015-02-01 00:00:00</td>\n",
       "    </tr>\n",
       "    <tr>\n",
       "      <th>1</th>\n",
       "      <td>1993.0</td>\n",
       "      <td>1</td>\n",
       "      <td>2015-02-01 00:00:00</td>\n",
       "    </tr>\n",
       "    <tr>\n",
       "      <th>2</th>\n",
       "      <td>1969.0</td>\n",
       "      <td>2</td>\n",
       "      <td>2015-02-01 00:01:00</td>\n",
       "    </tr>\n",
       "    <tr>\n",
       "      <th>3</th>\n",
       "      <td>1985.0</td>\n",
       "      <td>2</td>\n",
       "      <td>2015-02-01 00:01:00</td>\n",
       "    </tr>\n",
       "  </tbody>\n",
       "</table>\n",
       "</div>"
      ],
      "text/plain": [
       "   birth year  gender                date\n",
       "0      1978.0       2 2015-02-01 00:00:00\n",
       "1      1993.0       1 2015-02-01 00:00:00\n",
       "2      1969.0       2 2015-02-01 00:01:00\n",
       "3      1985.0       2 2015-02-01 00:01:00"
      ]
     },
     "execution_count": 7,
     "metadata": {},
     "output_type": "execute_result"
    }
   ],
   "source": [
    "\n",
    "df['date'] = pd.to_datetime(df['starttime'])\n",
    "# drop columns for a clean dataset\n",
    "df.drop(['tripduration', 'starttime', 'stoptime', 'start station id',\n",
    "       'start station name', 'start station latitude',\n",
    "       'start station longitude', 'end station id', 'end station name',\n",
    "       'end station latitude', 'end station longitude', 'bikeid', 'usertype'],axis = 1,inplace = True)\n",
    "\n",
    "# display view rows\n",
    "df.head(4)"
   ]
  },
  {
   "cell_type": "code",
   "execution_count": 8,
   "metadata": {},
   "outputs": [
    {
     "data": {
      "text/plain": [
       "196930"
      ]
     },
     "execution_count": 8,
     "metadata": {},
     "output_type": "execute_result"
    }
   ],
   "source": [
    "# see how many rows in the dataframe\n",
    "len(df.index)"
   ]
  },
  {
   "cell_type": "code",
   "execution_count": 9,
   "metadata": {},
   "outputs": [
    {
     "data": {
      "text/plain": [
       "65140"
      ]
     },
     "execution_count": 9,
     "metadata": {},
     "output_type": "execute_result"
    }
   ],
   "source": [
    "# age under 35\n",
    "# which is born after 1983\n",
    "\n",
    "df = df[df['birth year']>1982]\n",
    "len(df.index)\n"
   ]
  },
  {
   "cell_type": "code",
   "execution_count": 147,
   "metadata": {},
   "outputs": [
    {
     "data": {
      "text/html": [
       "<div>\n",
       "<table border=\"1\" class=\"dataframe\">\n",
       "  <thead>\n",
       "    <tr style=\"text-align: right;\">\n",
       "      <th></th>\n",
       "      <th>birth year</th>\n",
       "      <th>gender</th>\n",
       "      <th>date</th>\n",
       "    </tr>\n",
       "  </thead>\n",
       "  <tbody>\n",
       "    <tr>\n",
       "      <th>1</th>\n",
       "      <td>1993.0</td>\n",
       "      <td>1</td>\n",
       "      <td>2015-02-01 00:00:00</td>\n",
       "    </tr>\n",
       "    <tr>\n",
       "      <th>3</th>\n",
       "      <td>1985.0</td>\n",
       "      <td>2</td>\n",
       "      <td>2015-02-01 00:01:00</td>\n",
       "    </tr>\n",
       "    <tr>\n",
       "      <th>6</th>\n",
       "      <td>1983.0</td>\n",
       "      <td>1</td>\n",
       "      <td>2015-02-01 00:04:00</td>\n",
       "    </tr>\n",
       "    <tr>\n",
       "      <th>8</th>\n",
       "      <td>1985.0</td>\n",
       "      <td>2</td>\n",
       "      <td>2015-02-01 00:04:00</td>\n",
       "    </tr>\n",
       "  </tbody>\n",
       "</table>\n",
       "</div>"
      ],
      "text/plain": [
       "   birth year  gender                date\n",
       "1      1993.0       1 2015-02-01 00:00:00\n",
       "3      1985.0       2 2015-02-01 00:01:00\n",
       "6      1983.0       1 2015-02-01 00:04:00\n",
       "8      1985.0       2 2015-02-01 00:04:00"
      ]
     },
     "execution_count": 147,
     "metadata": {},
     "output_type": "execute_result"
    }
   ],
   "source": [
    "# now we have the dataset for the young people (age under 35)\n",
    "df.head(4)"
   ]
  },
  {
   "cell_type": "code",
   "execution_count": 12,
   "metadata": {},
   "outputs": [
    {
     "data": {
      "text/plain": [
       "array([1, 2, 0])"
      ]
     },
     "execution_count": 12,
     "metadata": {},
     "output_type": "execute_result"
    }
   ],
   "source": [
    "df['gender'].unique()"
   ]
  },
  {
   "cell_type": "code",
   "execution_count": 11,
   "metadata": {},
   "outputs": [
    {
     "data": {
      "text/plain": [
       "38"
      ]
     },
     "execution_count": 11,
     "metadata": {},
     "output_type": "execute_result"
    }
   ],
   "source": [
    "# now we also see there are 38 people with the gender as 0 (unidentified)\n",
    "len(df[df['gender']==0])"
   ]
  },
  {
   "cell_type": "markdown",
   "metadata": {},
   "source": [
    "### then I need to seperate the gender into to test the hypotheses.  Gender ==1 is male, Gender ==2 is femail\n",
    "\n",
    "\n"
   ]
  },
  {
   "cell_type": "code",
   "execution_count": 10,
   "metadata": {},
   "outputs": [
    {
     "data": {
      "text/plain": [
       "<matplotlib.legend.Legend at 0x7f2349f0c5f8>"
      ]
     },
     "execution_count": 10,
     "metadata": {},
     "output_type": "execute_result"
    },
    {
     "data": {
      "image/png": "[encoded data removed]",
      "text/plain": [
       "<matplotlib.figure.Figure at 0x7f236fcc4fd0>"
      ]
     },
     "metadata": {},
     "output_type": "display_data"
    }
   ],
   "source": [
    "# plot  number of trips per weekend\n",
    "\n",
    "fig = pl.figure(figsize = (15,15))\n",
    "ax = fig.add_subplot(111)\n",
    "\n",
    "# use .groupby \n",
    "data_w = 2\n",
    "((df['date'][df['gender'] ==2].groupby([df['date'].dt.weekday]).count()) /data_w).plot(kind=\"bar\",color = 'Orange',label = 'female')\n",
    "\n",
    "data_m =1\n",
    "\n",
    "((df['date'][df['gender'] ==1].groupby([df['date'].dt.weekday]).count()) /data_w).plot(kind=\"bar\",color = 'SteelBlue',alpha = 0.5,label = 'male')\n",
    "\n",
    "\n",
    "xticklabels = ['Mon', 'Tue', 'Wed', 'Thu', 'Fri', 'Sat', 'Sun']\n",
    "tmp = ax.set_xticklabels(xticklabels, rotation = 30, fontsize=20)\n",
    "pl.legend()"
   ]
  },
  {
   "cell_type": "markdown",
   "metadata": {},
   "source": [
    "## Figure 1a: Distribution of Citibike bikers by gender in Feburary 2015, absolute counts"
   ]
  },
  {
   "cell_type": "markdown",
   "metadata": {},
   "source": [
    "\n",
    "\n",
    "There are errors of the course? so? what is the error on the count statistics?\n",
    "\n",
    "for N counts the error is sqrt(N) - this is because counts follow the Poisson statistic\n",
    "\n",
    "1. I notices that in the gender there are some values of 0\n"
   ]
  },
  {
   "cell_type": "code",
   "execution_count": 150,
   "metadata": {},
   "outputs": [
    {
     "data": {
      "text/plain": [
       "array([1, 2, 0])"
      ]
     },
     "execution_count": 150,
     "metadata": {},
     "output_type": "execute_result"
    }
   ],
   "source": []
  },
  {
   "cell_type": "code",
   "execution_count": 151,
   "metadata": {},
   "outputs": [
    {
     "data": {
      "text/plain": [
       "<matplotlib.legend.Legend at 0x7f0270dbbbe0>"
      ]
     },
     "execution_count": 151,
     "metadata": {},
     "output_type": "execute_result"
    },
    {
     "data": {
      "image/png": "[encoded data removed]",
      "text/plain": [
       "<matplotlib.figure.Figure at 0x7f02712f3438>"
      ]
     },
     "metadata": {},
     "output_type": "display_data"
    }
   ],
   "source": [
    "fig = pl.figure(figsize = (15,15))\n",
    "\n",
    "counts_w = df['date'][df.gender ==2].groupby([df['date'].dt.weekday]).count()\n",
    "data_w = 1\n",
    "error_w = np.sqrt(counts_w)\n",
    "ax = ((counts_w)/data_w).plot(kind=\"bar\",color='Orange',  yerr=[\n",
    "            ((error_w) / data_w, (error_w) / data_w)], label='women bikers')\n",
    "\n",
    "counts_m = df['date'][df.gender==1].groupby([df['date'].dt.weekday]).count()\n",
    "data_m = 1\n",
    "error_m = np.sqrt(counts_m)\n",
    "ax = ((counts_m)/data_m).plot(kind=\"bar\",color='SteelBlue', alpha = 0.5, yerr=[\n",
    "            ((error_m) / data_m, (error_m) / data_m)], label='men bikers')\n",
    "\n",
    "\n",
    "xticklabels =['Mon', 'Tue', 'Wed', 'Thu', 'Fri', 'Sat', 'Sun']\n",
    "tmp = ax.set_xticklabels(xticklabels,rotation = 30,fontsize = 20)\n",
    "\n",
    "ax.set_xlabel(\"Day of the week\",fontsize = 15)\n",
    "ax.set_ylabel(\"Ridership\",fontsize = 15)\n",
    "pl.legend(['Women bikers','Men bikers'],fontsize = 15)\n"
   ]
  },
  {
   "cell_type": "markdown",
   "metadata": {},
   "source": [
    "## Figure 1b: Distribution of Citibike bikers by gender in Feburary 2015, absolute counts with statitical errors"
   ]
  },
  {
   "cell_type": "code",
   "execution_count": 152,
   "metadata": {},
   "outputs": [
    {
     "data": {
      "text/plain": [
       "<matplotlib.legend.Legend at 0x7f0270c0e358>"
      ]
     },
     "execution_count": 152,
     "metadata": {},
     "output_type": "execute_result"
    },
    {
     "data": {
      "image/png": "[encoded data removed]",
      "text/plain": [
       "<matplotlib.figure.Figure at 0x7f0271302c88>"
      ]
     },
     "metadata": {},
     "output_type": "display_data"
    }
   ],
   "source": [
    "## Let's normalize the distribution of men and also women \n",
    "\n",
    "\n",
    "fig = pl.figure(figsize = (15,15))\n",
    "\n",
    "#counts_w = df['date'][df.gender ==2].groupby([df['date'].dt.weekday]).count()\n",
    "\n",
    "dataNorm_w = counts_w.sum()\n",
    "error_w = np.sqrt(counts_w)\n",
    "ax = ((counts_w)/dataNorm_w).plot(kind=\"bar\",color='Orange',  yerr=[\n",
    "            ((error_w) / dataNorm_w, (error_w) / dataNorm_w)], label='women bikers')\n",
    "\n",
    "#counts_m = df['date'][df.gender==1].groupby([df['date'].dt.weekday]).count()\n",
    "dataNorm_m = counts_m.sum()\n",
    "error_m = np.sqrt(counts_m)\n",
    "ax = ((counts_m)/dataNorm_m).plot(kind=\"bar\",color='SteelBlue', alpha = 0.5, yerr=[\n",
    "            ((error_m) / dataNorm_m, (error_m) / dataNorm_m)], label='men bikers')\n",
    "\n",
    "\n",
    "xticklabels =['Mon', 'Tue', 'Wed', 'Thu', 'Fri', 'Sat', 'Sun']\n",
    "tmp = ax.set_xticklabels(xticklabels,rotation = 30,fontsize = 20)\n",
    "\n",
    "ax.set_xlabel(\"Day of the week\",fontsize = 15)\n",
    "ax.set_ylabel(\"Ridership\",fontsize = 15)\n",
    "pl.legend(['Women bikers','Men bikers'],fontsize = 15)"
   ]
  },
  {
   "cell_type": "code",
   "execution_count": 14,
   "metadata": {},
   "outputs": [],
   "source": [
    "?plot"
   ]
  },
  {
   "cell_type": "markdown",
   "metadata": {},
   "source": [
    "## Figure 2a: Distribution of Citibike bikers by gender in Feburary 2015, normalized"
   ]
  },
  {
   "cell_type": "code",
   "execution_count": null,
   "metadata": {},
   "outputs": [],
   "source": [
    "# missing Test of proportions"
   ]
  },
  {
   "cell_type": "code",
   "execution_count": null,
   "metadata": {},
   "outputs": [],
   "source": []
  },
  {
   "cell_type": "code",
   "execution_count": null,
   "metadata": {},
   "outputs": [],
   "source": []
  },
  {
   "cell_type": "code",
   "execution_count": null,
   "metadata": {},
   "outputs": [],
   "source": []
  }
 ],
 "metadata": {
  "kernelspec": {
   "display_name": "PUI2016_Python3",
   "language": "python",
   "name": "pui2016_python3"
  },
  "language_info": {
   "codemirror_mode": {
    "name": "ipython",
    "version": 3
   },
   "file_extension": ".py",
   "mimetype": "text/x-python",
   "name": "python",
   "nbconvert_exporter": "python",
   "pygments_lexer": "ipython3",
   "version": "3.5.4"
  }
 },
 "nbformat": 4,
 "nbformat_minor": 2
}
