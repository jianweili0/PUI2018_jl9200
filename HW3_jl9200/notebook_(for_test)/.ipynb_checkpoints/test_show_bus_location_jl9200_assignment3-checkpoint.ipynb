{
 "cells": [
  {
   "cell_type": "code",
   "execution_count": 1,
   "metadata": {},
   "outputs": [
    {
     "name": "stdout",
     "output_type": "stream",
     "text": [
      "Populating the interactive namespace from numpy and matplotlib\n"
     ]
    }
   ],
   "source": [
    "from __future__ import print_function\n",
    "import requests\n",
    "import pylab as pl\n",
    "import json\n",
    "import sys\n",
    "import csv\n",
    "\n",
    "%pylab inline\n",
    "\n",
    "# import urllib2 or urllib\n",
    "\n",
    "\n",
    "try:\n",
    "    import urllib2 as urllib\n",
    "except ImportError:\n",
    "    import urllib.request as urllib\n",
    "\n",
    "\n",
    "###\n",
    "# go to terminal\n",
    "# python show_bus_locations_jl9200.py API_KEY Busline\n"
   ]
  },
  {
   "cell_type": "code",
   "execution_count": 2,
   "metadata": {},
   "outputs": [],
   "source": [
    "if not len(sys.argv)>=3:\n",
    "    print(\"Invalid number of arguments. Please run as: python file_name.py <Apikey> <Bus_line>\")\n",
    "    sys.exit()"
   ]
  },
  {
   "cell_type": "code",
   "execution_count": 21,
   "metadata": {},
   "outputs": [
    {
     "name": "stdout",
     "output_type": "stream",
     "text": [
      "{'Siri': {'ServiceDelivery': {'ResponseTimestamp': '2018-10-31T00:05:37.298-04:00', 'VehicleMonitoringDelivery': [{'ResponseTimestamp': '2018-10-31T00:05:37.298-04:00', 'ValidUntil': '2018-10-31T00:06:37.298-04:00', 'VehicleActivity': [{'RecordedAtTime': '2018-10-31T00:05:33.000-04:00', 'MonitoredVehicleJourney': {'DestinationName': 'DNTWN BKLYN TILLARY ST via GATES', 'DestinationRef': 'MTA_901463', 'OperatorRef': 'MTA NYCT', 'OriginRef': 'MTA_504965', 'FramedVehicleJourneyRef': {'DatedVehicleJourneyRef': 'MTA NYCT_FP_K8-Weekday-SDon-140000_B54_225', 'DataFrameRef': '2018-10-30'}, 'VehicleRef': 'MTA NYCT_3971', 'LineRef': 'MTA NYCT_B52', 'MonitoredCall': {'ExpectedArrivalTime': '2018-10-31T00:05:38.298-04:00', 'ExpectedDepartureTime': '2018-10-31T00:05:38.298-04:00', 'VisitNumber': 1, 'Extensions': {'Distances': {'CallDistanceAlongRoute': 8096.35, 'PresentableDistance': 'at stop', 'DistanceFromCall': 0.0, 'StopsFromCall': 0}}, 'StopPointName': 'CADMAN PZ W/TILLARY ST', 'StopPointRef': 'MTA_901463'}, 'DirectionRef': '1', 'VehicleLocation': {'Latitude': 40.693866, 'Longitude': -73.990441}, 'ProgressRate': 'noProgress', 'JourneyPatternRef': 'MTA_B520053', 'PublishedLineName': 'B52', 'Bearing': 100.06069, 'OnwardCalls': {'OnwardCall': [{'StopPointName': 'CADMAN PZ W/TILLARY ST', 'ExpectedArrivalTime': '2018-10-31T00:05:37.298-04:00', 'Extensions': {'Distances': {'CallDistanceAlongRoute': 8096.35, 'PresentableDistance': 'at stop', 'DistanceFromCall': 0.0, 'StopsFromCall': 0}}, 'StopPointRef': 'MTA_901463'}]}, 'ProgressStatus': 'layover', 'SituationRef': [], 'Monitored': True, 'BlockRef': 'MTA NYCT_FP_K8-Weekday-SDon_E_FP_76080_B54-225', 'OriginAimedDepartureTime': '2018-10-31T00:10:00.000-04:00'}}, {'RecordedAtTime': '2018-10-31T00:05:35.000-04:00', 'MonitoredVehicleJourney': {'DestinationName': 'RIDGEWOOD TERM via GATES', 'DestinationRef': 'MTA_801117', 'OperatorRef': 'MTA NYCT', 'OriginRef': 'MTA_307175', 'FramedVehicleJourneyRef': {'DatedVehicleJourneyRef': 'MTA NYCT_FP_K8-Weekday-SDon-142000_Q55_321', 'DataFrameRef': '2018-10-30'}, 'VehicleRef': 'MTA NYCT_3975', 'LineRef': 'MTA NYCT_B52', 'MonitoredCall': {'ExpectedArrivalTime': '2018-10-31T00:05:45.888-04:00', 'ExpectedDepartureTime': '2018-10-31T00:05:45.888-04:00', 'VisitNumber': 1, 'Extensions': {'Distances': {'CallDistanceAlongRoute': 4616.54, 'PresentableDistance': 'approaching', 'DistanceFromCall': 45.19, 'StopsFromCall': 0}}, 'StopPointName': 'GATES AV/MARCY AV', 'StopPointRef': 'MTA_307677'}, 'DirectionRef': '0', 'VehicleLocation': {'Latitude': 40.686538, 'Longitude': -73.947579}, 'ProgressRate': 'normalProgress', 'JourneyPatternRef': 'MTA_B520052', 'PublishedLineName': 'B52', 'Bearing': 6.6084642, 'OnwardCalls': {'OnwardCall': [{'StopPointName': 'GATES AV/MARCY AV', 'ExpectedArrivalTime': '2018-10-31T00:05:45.888-04:00', 'Extensions': {'Distances': {'CallDistanceAlongRoute': 4616.54, 'PresentableDistance': 'approaching', 'DistanceFromCall': 45.19, 'StopsFromCall': 0}}, 'StopPointRef': 'MTA_307677'}, {'StopPointName': 'GATES AV/TOMPKINS AV', 'ExpectedArrivalTime': '2018-10-31T00:06:48.488-04:00', 'Extensions': {'Distances': {'CallDistanceAlongRoute': 4866.0, 'PresentableDistance': '1 stop away', 'DistanceFromCall': 294.65, 'StopsFromCall': 1}}, 'StopPointRef': 'MTA_307678'}, {'StopPointName': 'GATES AV/THROOP AV', 'ExpectedArrivalTime': '2018-10-31T00:07:50.288-04:00', 'Extensions': {'Distances': {'CallDistanceAlongRoute': 5103.34, 'PresentableDistance': '2 stops away', 'DistanceFromCall': 531.99, 'StopsFromCall': 2}}, 'StopPointRef': 'MTA_307679'}, {'StopPointName': 'GATES AV/MARCUS GARVEY BL', 'ExpectedArrivalTime': '2018-10-31T00:08:55.140-04:00', 'Extensions': {'Distances': {'CallDistanceAlongRoute': 5342.21, 'PresentableDistance': '3 stops away', 'DistanceFromCall': 770.86, 'StopsFromCall': 3}}, 'StopPointRef': 'MTA_307680'}, {'StopPointName': 'GATES AV/LEWIS AV', 'ExpectedArrivalTime': '2018-10-31T00:09:48.084-04:00', 'Extensions': {'Distances': {'CallDistanceAlongRoute': 5591.01, 'PresentableDistance': '0.6 miles away', 'DistanceFromCall': 1019.66, 'StopsFromCall': 4}}, 'StopPointRef': 'MTA_307681'}, {'StopPointName': 'GATES AV/STUYVESANT AV', 'ExpectedArrivalTime': '2018-10-31T00:10:50.484-04:00', 'Extensions': {'Distances': {'CallDistanceAlongRoute': 5842.65, 'PresentableDistance': '0.8 miles away', 'DistanceFromCall': 1271.3, 'StopsFromCall': 5}}, 'StopPointRef': 'MTA_307682'}, {'StopPointName': 'GATES AV/MALCOLM X BL', 'ExpectedArrivalTime': '2018-10-31T00:11:57.282-04:00', 'Extensions': {'Distances': {'CallDistanceAlongRoute': 6092.05, 'PresentableDistance': '0.9 miles away', 'DistanceFromCall': 1520.7, 'StopsFromCall': 6}}, 'StopPointRef': 'MTA_307683'}, {'StopPointName': 'GATES AV/PATCHEN AV', 'ExpectedArrivalTime': '2018-10-31T00:12:58.282-04:00', 'Extensions': {'Distances': {'CallDistanceAlongRoute': 6337.9, 'PresentableDistance': '1.1 miles away', 'DistanceFromCall': 1766.55, 'StopsFromCall': 7}}, 'StopPointRef': 'MTA_307684'}, {'StopPointName': 'GATES AV/RALPH AV', 'ExpectedArrivalTime': '2018-10-31T00:13:48.985-04:00', 'Extensions': {'Distances': {'CallDistanceAlongRoute': 6572.3, 'PresentableDistance': '1.2 miles away', 'DistanceFromCall': 2000.96, 'StopsFromCall': 8}}, 'StopPointRef': 'MTA_307901'}, {'StopPointName': 'GATES AV/BROADWAY', 'ExpectedArrivalTime': '2018-10-31T00:14:34.985-04:00', 'Extensions': {'Distances': {'CallDistanceAlongRoute': 6734.12, 'PresentableDistance': '1.3 miles away', 'DistanceFromCall': 2162.78, 'StopsFromCall': 9}}, 'StopPointRef': 'MTA_307686'}, {'StopPointName': 'GATES AV/BUSHWICK AV', 'ExpectedArrivalTime': '2018-10-31T00:15:48.340-04:00', 'Extensions': {'Distances': {'CallDistanceAlongRoute': 6977.66, 'PresentableDistance': '1.5 miles away', 'DistanceFromCall': 2406.31, 'StopsFromCall': 10}}, 'StopPointRef': 'MTA_307687'}, {'StopPointName': 'GATES AV/EVERGREEN AV', 'ExpectedArrivalTime': '2018-10-31T00:16:39.212-04:00', 'Extensions': {'Distances': {'CallDistanceAlongRoute': 7146.91, 'PresentableDistance': '1.6 miles away', 'DistanceFromCall': 2575.56, 'StopsFromCall': 11}}, 'StopPointRef': 'MTA_307688'}, {'StopPointName': 'GATES AV/CENTRAL AV', 'ExpectedArrivalTime': '2018-10-31T00:17:34.708-04:00', 'Extensions': {'Distances': {'CallDistanceAlongRoute': 7388.47, 'PresentableDistance': '1.8 miles away', 'DistanceFromCall': 2817.13, 'StopsFromCall': 12}}, 'StopPointRef': 'MTA_307689'}, {'StopPointName': 'GATES AV/WILSON AV', 'ExpectedArrivalTime': '2018-10-31T00:18:16.149-04:00', 'Extensions': {'Distances': {'CallDistanceAlongRoute': 7591.7, 'PresentableDistance': '1.9 miles away', 'DistanceFromCall': 3020.35, 'StopsFromCall': 13}}, 'StopPointRef': 'MTA_307690'}, {'StopPointName': 'GATES AV/KNICKERBOCKER AV', 'ExpectedArrivalTime': '2018-10-31T00:19:12.018-04:00', 'Extensions': {'Distances': {'CallDistanceAlongRoute': 7797.59, 'PresentableDistance': '2.0 miles away', 'DistanceFromCall': 3226.24, 'StopsFromCall': 14}}, 'StopPointRef': 'MTA_307691'}, {'StopPointName': 'PALMETTO ST/IRVING AV', 'ExpectedArrivalTime': '2018-10-31T00:20:20.810-04:00', 'Extensions': {'Distances': {'CallDistanceAlongRoute': 8098.58, 'PresentableDistance': '2.2 miles away', 'DistanceFromCall': 3527.23, 'StopsFromCall': 15}}, 'StopPointRef': 'MTA_304415'}, {'StopPointName': 'PALMETTO ST/WYCKOFF AV', 'ExpectedArrivalTime': '2018-10-31T00:20:53.210-04:00', 'Extensions': {'Distances': {'CallDistanceAlongRoute': 8248.54, 'PresentableDistance': '2.3 miles away', 'DistanceFromCall': 3677.19, 'StopsFromCall': 16}}, 'StopPointRef': 'MTA_801117'}]}, 'SituationRef': [], 'Monitored': True, 'BlockRef': 'MTA NYCT_FP_K8-Weekday-SDon_E_FP_81600_Q55-321'}}]}], 'SituationExchangeDelivery': []}}}\n"
     ]
    }
   ],
   "source": [
    "\n",
    "# change MY_KEY and BUS as input in terminal\n",
    "MY_KEY =\"22d5bcc9-a3c0-4858-94fb-2e1e8c04add9\" # sys.argv[1]\n",
    "BUS = \"B52\"  # sys.argv[2]\n",
    "## input will be \"python show_bus_locations.py <MTA_KEY> <BUS_LINE>\"\n",
    "\n",
    "url = \"http://bustime.mta.info/api/siri/vehicle-monitoring.json?key=\"+ MY_KEY + \"&VehicleMonitoringDetailLevel=calls&LineRef=\" + BUS\n",
    "  \n",
    "\n",
    "# user the json.loads to obtain a dictionary representation of the response string\n",
    "\n",
    "\n",
    "#print (url)\n",
    "response = urllib.urlopen(url)\n",
    "data = response.read().decode('utf-8')\n",
    "data = json.loads(data)\n",
    "print(data)\n",
    "# print(data)\n",
    "\n",
    "\n",
    "# print (data['Siri']['ServiceDelivery']['VehicleMonitoringDelivery'][0]['VehicleActivity'])\n",
    "\n",
    "# calculate number of buses\n",
    "\n",
    "\n"
   ]
  },
  {
   "cell_type": "code",
   "execution_count": null,
   "metadata": {},
   "outputs": [],
   "source": [
    "# midterm note\n",
    "\n",
    "# json api reader \n",
    "\n",
    "# response = urllib.urlopen(url)\n",
    "# data = response.read().decode(\"utf-8\")\n",
    "# data = json.loads(data)"
   ]
  },
  {
   "cell_type": "code",
   "execution_count": 22,
   "metadata": {},
   "outputs": [
    {
     "name": "stdout",
     "output_type": "stream",
     "text": [
      "Bus Line :B52\n",
      "Number of Active Buses : 2\n",
      "Bus 1 is at latitude 40.693866 and longitude -73.990441\n",
      "Bus 2 is at latitude 40.686538 and longitude -73.947579\n"
     ]
    }
   ],
   "source": [
    "#print (Num_buses)\n",
    "Num_buses = len(data['Siri']['ServiceDelivery']['VehicleMonitoringDelivery'][0]['VehicleActivity'])\n",
    "print (\"Bus Line :\" + BUS)\n",
    "print (\"Number of Active Buses : \"+ str(Num_buses))\n",
    "for i in range(Num_buses):\n",
    "    bus_lat = data['Siri']['ServiceDelivery']['VehicleMonitoringDelivery'][0]['VehicleActivity'][i]['MonitoredVehicleJourney']['VehicleLocation']['Latitude']\n",
    "    bus_lon = data['Siri']['ServiceDelivery']['VehicleMonitoringDelivery'][0]['VehicleActivity'][i]['MonitoredVehicleJourney']['VehicleLocation']['Longitude']\n",
    "    print (\"Bus \"+ str(i+1) +\" is at\" +\" latitude \" +str(bus_lat) +\" and longitude \"+str(bus_lon))\n",
    "    \n",
    "\n",
    "# alternative print option\n",
    "# print(\"Bus %s is at Latitude %s and Longitude %s\" %(n,bus_lat,bus_lon))"
   ]
  },
  {
   "cell_type": "code",
   "execution_count": null,
   "metadata": {},
   "outputs": [],
   "source": []
  }
 ],
 "metadata": {
  "kernelspec": {
   "display_name": "PUI2016_Python3",
   "language": "python",
   "name": "pui2016_python3"
  },
  "language_info": {
   "codemirror_mode": {
    "name": "ipython",
    "version": 3
   },
   "file_extension": ".py",
   "mimetype": "text/x-python",
   "name": "python",
   "nbconvert_exporter": "python",
   "pygments_lexer": "ipython3",
   "version": "3.5.4"
  }
 },
 "nbformat": 4,
 "nbformat_minor": 2
}
