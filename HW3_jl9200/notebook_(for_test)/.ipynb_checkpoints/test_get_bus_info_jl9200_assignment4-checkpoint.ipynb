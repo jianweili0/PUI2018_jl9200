{
 "cells": [
  {
   "cell_type": "code",
   "execution_count": 1,
   "metadata": {},
   "outputs": [],
   "source": [
    "from __future__ import print_function\n",
    "import requests\n",
    "import json\n",
    "import csv\n",
    "\n",
    "try:\n",
    "    import urllib2 as urllib\n",
    "except ImportError:\n",
    "    import urllib.request as urllib\n",
    "\n",
    "###\n",
    "# go to terminal\n",
    "# python get_bus_info_jl9200.py API_KEY Busline Busline.csv\n"
   ]
  },
  {
   "cell_type": "code",
   "execution_count": 2,
   "metadata": {},
   "outputs": [
    {
     "name": "stdout",
     "output_type": "stream",
     "text": [
      "http://bustime.mta.info/api/siri/vehicle-monitoring.json?key=22d5bcc9-a3c0-4858-94fb-2e1e8c04add9&VehicleMonitoringDetailLevel=calls&LineRef=M5\n"
     ]
    }
   ],
   "source": [
    "MY_KEY =\"22d5bcc9-a3c0-4858-94fb-2e1e8c04add9\" # sys.argv[1]\n",
    "BUS = \"M5\"  # sys.argv[2]\n",
    "## input will be \"python show_bus_locations.py <MTA_KEY> <BUS_LINE>\"\n",
    "\n",
    "url = \"http://bustime.mta.info/api/siri/vehicle-monitoring.json?key=\"+ MY_KEY + \"&VehicleMonitoringDetailLevel=calls&LineRef=\" + BUS\n",
    "\n",
    "print (url)"
   ]
  },
  {
   "cell_type": "code",
   "execution_count": 3,
   "metadata": {},
   "outputs": [
    {
     "name": "stdout",
     "output_type": "stream",
     "text": [
      "{u'Siri': {u'ServiceDelivery': {u'SituationExchangeDelivery': [], u'ResponseTimestamp': u'2018-10-31T00:12:31.035-04:00', u'VehicleMonitoringDelivery': [{u'VehicleActivity': [{u'RecordedAtTime': u'2018-10-31T00:12:14.000-04:00', u'MonitoredVehicleJourney': {u'OriginRef': u'MTA_803083', u'Bearing': 53.823437, u'VehicleLocation': {u'Latitude': 40.759782, u'Longitude': -73.980488}, u'SituationRef': [], u'OperatorRef': u'MTA NYCT', u'VehicleRef': u'MTA NYCT_3943', u'BlockRef': u'MTA NYCT_MV_D8-Weekday-SDon_E_MV_26760_M5-215', u'DestinationName': u'WASHINGTON HEIGHTS  GW BRIDGE', u'DestinationRef': u'MTA_903231', u'JourneyPatternRef': u'MTA_M050416', u'MonitoredCall': {u'VisitNumber': 1, u'StopPointRef': u'MTA_403132', u'ExpectedDepartureTime': u'2018-10-31T00:12:32.035-04:00', u'StopPointName': u'AV OF THE AMERICAS/W 50 ST', u'Extensions': {u'Distances': {u'CallDistanceAlongRoute': 1490.89, u'StopsFromCall': 0, u'PresentableDistance': u'at stop', u'DistanceFromCall': 3.25}}, u'ExpectedArrivalTime': u'2018-10-31T00:12:32.035-04:00'}, u'LineRef': u'MTA NYCT_M5', u'FramedVehicleJourneyRef': {u'DataFrameRef': u'2018-10-30', u'DatedVehicleJourneyRef': u'MTA NYCT_MV_D8-Weekday-SDon-144000_M4_155'}, u'PublishedLineName': u'M5', u'Monitored': True, u'OnwardCalls': {u'OnwardCall': [{u'StopPointRef': u'MTA_403132', u'StopPointName': u'AV OF THE AMERICAS/W 50 ST', u'Extensions': {u'Distances': {u'CallDistanceAlongRoute': 1490.89, u'StopsFromCall': 0, u'PresentableDistance': u'at stop', u'DistanceFromCall': 3.25}}, u'ExpectedArrivalTime': u'2018-10-31T00:12:31.035-04:00'}, {u'StopPointRef': u'MTA_400940', u'StopPointName': u'AV OF THE AMERICAS/W 51 ST', u'Extensions': {u'Distances': {u'CallDistanceAlongRoute': 1614.96, u'StopsFromCall': 1, u'PresentableDistance': u'approaching', u'DistanceFromCall': 127.32}}, u'ExpectedArrivalTime': u'2018-10-31T00:13:01.199-04:00'}, {u'StopPointRef': u'MTA_400941', u'StopPointName': u'AV OF THE AMERICAS/W 54 ST', u'Extensions': {u'Distances': {u'CallDistanceAlongRoute': 1852.56, u'StopsFromCall': 2, u'PresentableDistance': u'2 stops away', u'DistanceFromCall': 364.92}}, u'ExpectedArrivalTime': u'2018-10-31T00:14:25.993-04:00'}, {u'StopPointRef': u'MTA_404992', u'StopPointName': u'AV OF THE AMERICAS/W 57 ST', u'Extensions': {u'Distances': {u'CallDistanceAlongRoute': 2079.25, u'StopsFromCall': 3, u'PresentableDistance': u'3 stops away', u'DistanceFromCall': 591.61}}, u'ExpectedArrivalTime': u'2018-10-31T00:15:27.159-04:00'}, {u'StopPointRef': u'MTA_400943', u'StopPointName': u'CENTRAL PK S/6 AV', u'Extensions': {u'Distances': {u'CallDistanceAlongRoute': 2321.72, u'StopsFromCall': 4, u'PresentableDistance': u'0.5 miles away', u'DistanceFromCall': 834.08}}, u'ExpectedArrivalTime': u'2018-10-31T00:17:24.340-04:00'}, {u'StopPointRef': u'MTA_401014', u'StopPointName': u'CENTRAL PK S/7 AV', u'Extensions': {u'Distances': {u'CallDistanceAlongRoute': 2568.2, u'StopsFromCall': 5, u'PresentableDistance': u'0.7 miles away', u'DistanceFromCall': 1080.56}}, u'ExpectedArrivalTime': u'2018-10-31T00:18:04.684-04:00'}, {u'StopPointRef': u'MTA_401015', u'StopPointName': u'CENTRAL PK S/COLUMBUS CI', u'Extensions': {u'Distances': {u'CallDistanceAlongRoute': 2725.07, u'StopsFromCall': 6, u'PresentableDistance': u'0.8 miles away', u'DistanceFromCall': 1237.43}}, u'ExpectedArrivalTime': u'2018-10-31T00:18:38.084-04:00'}, {u'StopPointRef': u'MTA_401016', u'StopPointName': u'BROADWAY/W 61 ST', u'Extensions': {u'Distances': {u'CallDistanceAlongRoute': 2945.99, u'StopsFromCall': 7, u'PresentableDistance': u'0.9 miles away', u'DistanceFromCall': 1458.35}}, u'ExpectedArrivalTime': u'2018-10-31T00:19:50.199-04:00'}, {u'StopPointRef': u'MTA_400747', u'StopPointName': u'BROADWAY/W 63 ST', u'Extensions': {u'Distances': {u'CallDistanceAlongRoute': 3206.58, u'StopsFromCall': 8, u'PresentableDistance': u'1.1 miles away', u'DistanceFromCall': 1718.94}}, u'ExpectedArrivalTime': u'2018-10-31T00:21:15.601-04:00'}, {u'StopPointRef': u'MTA_403271', u'StopPointName': u'BROADWAY/W 66 ST', u'Extensions': {u'Distances': {u'CallDistanceAlongRoute': 3474.73, u'StopsFromCall': 9, u'PresentableDistance': u'1.2 miles away', u'DistanceFromCall': 1987.09}}, u'ExpectedArrivalTime': u'2018-10-31T00:22:20.401-04:00'}, {u'StopPointRef': u'MTA_400750', u'StopPointName': u'BROADWAY/W 69 ST', u'Extensions': {u'Distances': {u'CallDistanceAlongRoute': 3743.34, u'StopsFromCall': 10, u'PresentableDistance': u'1.4 miles away', u'DistanceFromCall': 2255.7}}, u'ExpectedArrivalTime': u'2018-10-31T00:23:30.362-04:00'}, {u'StopPointRef': u'MTA_400751', u'StopPointName': u'W 72 ST/BROADWAY', u'Extensions': {u'Distances': {u'CallDistanceAlongRoute': 4043.09, u'StopsFromCall': 11, u'PresentableDistance': u'1.6 miles away', u'DistanceFromCall': 2555.45}}, u'ExpectedArrivalTime': u'2018-10-31T00:25:25.463-04:00'}, {u'StopPointRef': u'MTA_400752', u'StopPointName': u'W 72 ST/WEST END AV', u'Extensions': {u'Distances': {u'CallDistanceAlongRoute': 4290.02, u'StopsFromCall': 12, u'PresentableDistance': u'1.7 miles away', u'DistanceFromCall': 2802.38}}, u'ExpectedArrivalTime': u'2018-10-31T00:26:48.938-04:00'}, {u'StopPointRef': u'MTA_404289', u'StopPointName': u'RIVERSIDE DR/W 74 ST', u'Extensions': {u'Distances': {u'CallDistanceAlongRoute': 4554.94, u'StopsFromCall': 13, u'PresentableDistance': u'1.9 miles away', u'DistanceFromCall': 3067.3}}, u'ExpectedArrivalTime': u'2018-10-31T00:28:10.415-04:00'}, {u'StopPointRef': u'MTA_400755', u'StopPointName': u'RIVERSIDE DR/W 77 ST', u'Extensions': {u'Distances': {u'CallDistanceAlongRoute': 4803.51, u'StopsFromCall': 14, u'PresentableDistance': u'2.1 miles away', u'DistanceFromCall': 3315.87}}, u'ExpectedArrivalTime': u'2018-10-31T00:28:49.691-04:00'}, {u'StopPointRef': u'MTA_400756', u'StopPointName': u'RIVERSIDE DR/W 79 ST', u'Extensions': {u'Distances': {u'CallDistanceAlongRoute': 4977.43, u'StopsFromCall': 15, u'PresentableDistance': u'2.2 miles away', u'DistanceFromCall': 3489.79}}, u'ExpectedArrivalTime': u'2018-10-31T00:29:13.290-04:00'}, {u'StopPointRef': u'MTA_404290', u'StopPointName': u'RIVERSIDE DR/W 82 ST', u'Extensions': {u'Distances': {u'CallDistanceAlongRoute': 5223.11, u'StopsFromCall': 16, u'PresentableDistance': u'2.3 miles away', u'DistanceFromCall': 3735.47}}, u'ExpectedArrivalTime': u'2018-10-31T00:30:01.530-04:00'}, {u'StopPointRef': u'MTA_400759', u'StopPointName': u'RIVERSIDE DR/W 85 ST', u'Extensions': {u'Distances': {u'CallDistanceAlongRoute': 5442.66, u'StopsFromCall': 17, u'PresentableDistance': u'2.5 miles away', u'DistanceFromCall': 3955.03}}, u'ExpectedArrivalTime': u'2018-10-31T00:30:35.113-04:00'}, {u'StopPointRef': u'MTA_400760', u'StopPointName': u'RIVERSIDE DR/W 87 ST', u'Extensions': {u'Distances': {u'CallDistanceAlongRoute': 5645.46, u'StopsFromCall': 18, u'PresentableDistance': u'2.6 miles away', u'DistanceFromCall': 4157.82}}, u'ExpectedArrivalTime': u'2018-10-31T00:31:17.150-04:00'}, {u'StopPointRef': u'MTA_400761', u'StopPointName': u'RIVERSIDE DR/W 89 ST', u'Extensions': {u'Distances': {u'CallDistanceAlongRoute': 5826.96, u'StopsFromCall': 19, u'PresentableDistance': u'2.7 miles away', u'DistanceFromCall': 4339.32}}, u'ExpectedArrivalTime': u'2018-10-31T00:31:58.079-04:00'}, {u'StopPointRef': u'MTA_400762', u'StopPointName': u'RIVERSIDE DR/W 91 ST', u'Extensions': {u'Distances': {u'CallDistanceAlongRoute': 5954.6, u'StopsFromCall': 20, u'PresentableDistance': u'2.8 miles away', u'DistanceFromCall': 4466.96}}, u'ExpectedArrivalTime': u'2018-10-31T00:32:19.408-04:00'}, {u'StopPointRef': u'MTA_404054', u'StopPointName': u'RIVERSIDE DR/W 94 ST', u'Extensions': {u'Distances': {u'CallDistanceAlongRoute': 6196.05, u'StopsFromCall': 21, u'PresentableDistance': u'2.9 miles away', u'DistanceFromCall': 4708.41}}, u'ExpectedArrivalTime': u'2018-10-31T00:32:46.615-04:00'}, {u'StopPointRef': u'MTA_400764', u'StopPointName': u'RIVERSIDE DR/W 97 ST', u'Extensions': {u'Distances': {u'CallDistanceAlongRoute': 6475.16, u'StopsFromCall': 22, u'PresentableDistance': u'3.1 miles away', u'DistanceFromCall': 4987.52}}, u'ExpectedArrivalTime': u'2018-10-31T00:33:21.615-04:00'}, {u'StopPointRef': u'MTA_403902', u'StopPointName': u'RIVERSIDE DR/W 100 ST', u'Extensions': {u'Distances': {u'CallDistanceAlongRoute': 6755.08, u'StopsFromCall': 23, u'PresentableDistance': u'3.3 miles away', u'DistanceFromCall': 5267.44}}, u'ExpectedArrivalTime': u'2018-10-31T00:34:11.342-04:00'}, {u'StopPointRef': u'MTA_404104', u'StopPointName': u'RIVERSIDE DR/W 103 ST', u'Extensions': {u'Distances': {u'CallDistanceAlongRoute': 6986.13, u'StopsFromCall': 24, u'PresentableDistance': u'3.4 miles away', u'DistanceFromCall': 5498.49}}, u'ExpectedArrivalTime': u'2018-10-31T00:34:49.167-04:00'}, {u'StopPointRef': u'MTA_400768', u'StopPointName': u'RIVERSIDE DR/W 106 ST', u'Extensions': {u'Distances': {u'CallDistanceAlongRoute': 7223.67, u'StopsFromCall': 25, u'PresentableDistance': u'3.6 miles away', u'DistanceFromCall': 5736.03}}, u'ExpectedArrivalTime': u'2018-10-31T00:35:17.047-04:00'}, {u'StopPointRef': u'MTA_400769', u'StopPointName': u'RIVERSIDE DR/W 108 ST', u'Extensions': {u'Distances': {u'CallDistanceAlongRoute': 7406.58, u'StopsFromCall': 26, u'PresentableDistance': u'3.7 miles away', u'DistanceFromCall': 5918.94}}, u'ExpectedArrivalTime': u'2018-10-31T00:35:44.123-04:00'}, {u'StopPointRef': u'MTA_400599', u'StopPointName': u'RIVERSIDE DR/W 112 ST', u'Extensions': {u'Distances': {u'CallDistanceAlongRoute': 7723.41, u'StopsFromCall': 27, u'PresentableDistance': u'3.9 miles away', u'DistanceFromCall': 6235.77}}, u'ExpectedArrivalTime': u'2018-10-31T00:36:49.341-04:00'}, {u'StopPointRef': u'MTA_400771', u'StopPointName': u'RIVERSIDE DR/W 114 ST', u'Extensions': {u'Distances': {u'CallDistanceAlongRoute': 7919.64, u'StopsFromCall': 28, u'PresentableDistance': u'4.0 miles away', u'DistanceFromCall': 6432.0}}, u'ExpectedArrivalTime': u'2018-10-31T00:37:13.145-04:00'}, {u'StopPointRef': u'MTA_400772', u'StopPointName': u'RIVERSIDE DR/W 116 ST', u'Extensions': {u'Distances': {u'CallDistanceAlongRoute': 8088.91, u'StopsFromCall': 29, u'PresentableDistance': u'4.1 miles away', u'DistanceFromCall': 6601.27}}, u'ExpectedArrivalTime': u'2018-10-31T00:37:39.373-04:00'}, {u'StopPointRef': u'MTA_400602', u'StopPointName': u'RIVERSIDE DR/W 119 ST', u'Extensions': {u'Distances': {u'CallDistanceAlongRoute': 8317.56, u'StopsFromCall': 30, u'PresentableDistance': u'4.2 miles away', u'DistanceFromCall': 6829.92}}, u'ExpectedArrivalTime': u'2018-10-31T00:38:07.582-04:00'}, {u'StopPointRef': u'MTA_404258', u'StopPointName': u'RIVERSIDE DR/W 122 ST', u'Extensions': {u'Distances': {u'CallDistanceAlongRoute': 8574.94, u'StopsFromCall': 31, u'PresentableDistance': u'4.4 miles away', u'DistanceFromCall': 7087.31}}, u'ExpectedArrivalTime': u'2018-10-31T00:38:37.150-04:00'}, {u'StopPointRef': u'MTA_404821', u'StopPointName': u'RIVERSIDE DR/TIEMANN PL', u'Extensions': {u'Distances': {u'CallDistanceAlongRoute': 8950.58, u'StopsFromCall': 32, u'PresentableDistance': u'4.6 miles away', u'DistanceFromCall': 7462.95}}, u'ExpectedArrivalTime': u'2018-10-31T00:39:17.177-04:00'}, {u'StopPointRef': u'MTA_404019', u'StopPointName': u'W 135 ST/RIVERSIDE DR', u'Extensions': {u'Distances': {u'CallDistanceAlongRoute': 9674.0, u'StopsFromCall': 33, u'PresentableDistance': u'5.1 miles away', u'DistanceFromCall': 8186.36}}, u'ExpectedArrivalTime': u'2018-10-31T00:40:32.380-04:00'}, {u'StopPointRef': u'MTA_903236', u'StopPointName': u'BROADWAY / W 135 ST', u'Extensions': {u'Distances': {u'CallDistanceAlongRoute': 9939.6, u'StopsFromCall': 34, u'PresentableDistance': u'5.3 miles away', u'DistanceFromCall': 8451.96}}, u'ExpectedArrivalTime': u'2018-10-31T00:41:43.780-04:00'}, {u'StopPointRef': u'MTA_400609', u'StopPointName': u'BROADWAY/W 137 ST', u'Extensions': {u'Distances': {u'CallDistanceAlongRoute': 10017.2, u'StopsFromCall': 35, u'PresentableDistance': u'5.3 miles away', u'DistanceFromCall': 8529.56}}, u'ExpectedArrivalTime': u'2018-10-31T00:42:36.472-04:00'}, {u'StopPointRef': u'MTA_400610', u'StopPointName': u'BROADWAY/W 139 ST', u'Extensions': {u'Distances': {u'CallDistanceAlongRoute': 10216.74, u'StopsFromCall': 36, u'PresentableDistance': u'5.4 miles away', u'DistanceFromCall': 8729.1}}, u'ExpectedArrivalTime': u'2018-10-31T00:43:42.854-04:00'}, {u'StopPointRef': u'MTA_400611', u'StopPointName': u'BROADWAY/W 141 ST', u'Extensions': {u'Distances': {u'CallDistanceAlongRoute': 10377.71, u'StopsFromCall': 37, u'PresentableDistance': u'5.5 miles away', u'DistanceFromCall': 8890.07}}, u'ExpectedArrivalTime': u'2018-10-31T00:44:26.856-04:00'}, {u'StopPointRef': u'MTA_400612', u'StopPointName': u'BROADWAY/W 143 ST', u'Extensions': {u'Distances': {u'CallDistanceAlongRoute': 10534.0, u'StopsFromCall': 38, u'PresentableDistance': u'5.6 miles away', u'DistanceFromCall': 9046.36}}, u'ExpectedArrivalTime': u'2018-10-31T00:45:16.896-04:00'}, {u'StopPointRef': u'MTA_400613', u'StopPointName': u'BROADWAY/W 145 ST', u'Extensions': {u'Distances': {u'CallDistanceAlongRoute': 10721.83, u'StopsFromCall': 39, u'PresentableDistance': u'5.7 miles away', u'DistanceFromCall': 9234.19}}, u'ExpectedArrivalTime': u'2018-10-31T00:46:12.771-04:00'}, {u'StopPointRef': u'MTA_400614', u'StopPointName': u'BROADWAY/W 147 ST', u'Extensions': {u'Distances': {u'CallDistanceAlongRoute': 10865.05, u'StopsFromCall': 40, u'PresentableDistance': u'5.8 miles away', u'DistanceFromCall': 9377.41}}, u'ExpectedArrivalTime': u'2018-10-31T00:46:59.171-04:00'}, {u'StopPointRef': u'MTA_400615', u'StopPointName': u'BROADWAY/W 149 ST', u'Extensions': {u'Distances': {u'CallDistanceAlongRoute': 11023.81, u'StopsFromCall': 41, u'PresentableDistance': u'5.9 miles away', u'DistanceFromCall': 9536.17}}, u'ExpectedArrivalTime': u'2018-10-31T00:47:47.663-04:00'}, {u'StopPointRef': u'MTA_400616', u'StopPointName': u'BROADWAY/W 151 ST', u'Extensions': {u'Distances': {u'CallDistanceAlongRoute': 11182.2, u'StopsFromCall': 42, u'PresentableDistance': u'6.0 miles away', u'DistanceFromCall': 9694.56}}, u'ExpectedArrivalTime': u'2018-10-31T00:48:32.139-04:00'}, {u'StopPointRef': u'MTA_400617', u'StopPointName': u'BROADWAY/W 153 ST', u'Extensions': {u'Distances': {u'CallDistanceAlongRoute': 11345.3, u'StopsFromCall': 43, u'PresentableDistance': u'6.1 miles away', u'DistanceFromCall': 9857.66}}, u'ExpectedArrivalTime': u'2018-10-31T00:49:08.116-04:00'}, {u'StopPointRef': u'MTA_400618', u'StopPointName': u'BROADWAY/W 155 ST', u'Extensions': {u'Distances': {u'CallDistanceAlongRoute': 11509.81, u'StopsFromCall': 44, u'PresentableDistance': u'6.2 miles away', u'DistanceFromCall': 10022.17}}, u'ExpectedArrivalTime': u'2018-10-31T00:50:09.401-04:00'}, {u'StopPointRef': u'MTA_400619', u'StopPointName': u'BROADWAY/W 157 ST', u'Extensions': {u'Distances': {u'CallDistanceAlongRoute': 11670.33, u'StopsFromCall': 45, u'PresentableDistance': u'6.3 miles away', u'DistanceFromCall': 10182.69}}, u'ExpectedArrivalTime': u'2018-10-31T00:51:10.401-04:00'}, {u'StopPointRef': u'MTA_400620', u'StopPointName': u'BROADWAY/W 159 ST', u'Extensions': {u'Distances': {u'CallDistanceAlongRoute': 11830.26, u'StopsFromCall': 46, u'PresentableDistance': u'6.4 miles away', u'DistanceFromCall': 10342.63}}, u'ExpectedArrivalTime': u'2018-10-31T00:52:01.957-04:00'}, {u'StopPointRef': u'MTA_400621', u'StopPointName': u'BROADWAY/W 161 ST', u'Extensions': {u'Distances': {u'CallDistanceAlongRoute': 11986.0, u'StopsFromCall': 47, u'PresentableDistance': u'6.5 miles away', u'DistanceFromCall': 10498.37}}, u'ExpectedArrivalTime': u'2018-10-31T00:52:43.006-04:00'}, {u'StopPointRef': u'MTA_400622', u'StopPointName': u'BROADWAY/W 163 ST', u'Extensions': {u'Distances': {u'CallDistanceAlongRoute': 12146.92, u'StopsFromCall': 48, u'PresentableDistance': u'6.6 miles away', u'DistanceFromCall': 10659.28}}, u'ExpectedArrivalTime': u'2018-10-31T00:53:47.622-04:00'}, {u'StopPointRef': u'MTA_400623', u'StopPointName': u'BROADWAY/W 165 ST', u'Extensions': {u'Distances': {u'CallDistanceAlongRoute': 12319.33, u'StopsFromCall': 49, u'PresentableDistance': u'6.7 miles away', u'DistanceFromCall': 10831.7}}, u'ExpectedArrivalTime': u'2018-10-31T00:54:44.309-04:00'}, {u'StopPointRef': u'MTA_400624', u'StopPointName': u'BROADWAY/W 167 ST', u'Extensions': {u'Distances': {u'CallDistanceAlongRoute': 12438.66, u'StopsFromCall': 50, u'PresentableDistance': u'6.8 miles away', u'DistanceFromCall': 10951.02}}, u'ExpectedArrivalTime': u'2018-10-31T00:55:19.853-04:00'}, {u'StopPointRef': u'MTA_400796', u'StopPointName': u'BROADWAY/W 171 ST', u'Extensions': {u'Distances': {u'CallDistanceAlongRoute': 12811.74, u'StopsFromCall': 51, u'PresentableDistance': u'7.0 miles away', u'DistanceFromCall': 11324.1}}, u'ExpectedArrivalTime': u'2018-10-31T00:56:51.727-04:00'}, {u'StopPointRef': u'MTA_402535', u'StopPointName': u'BROADWAY/W 173 ST', u'Extensions': {u'Distances': {u'CallDistanceAlongRoute': 12974.64, u'StopsFromCall': 52, u'PresentableDistance': u'7.1 miles away', u'DistanceFromCall': 11487.01}}, u'ExpectedArrivalTime': u'2018-10-31T00:57:47.414-04:00'}, {u'StopPointRef': u'MTA_400798', u'StopPointName': u'BROADWAY/W 175 ST', u'Extensions': {u'Distances': {u'CallDistanceAlongRoute': 13148.43, u'StopsFromCall': 53, u'PresentableDistance': u'7.2 miles away', u'DistanceFromCall': 11660.79}}, u'ExpectedArrivalTime': u'2018-10-31T00:58:22.414-04:00'}, {u'StopPointRef': u'MTA_903231', u'StopPointName': u'W 178 ST/BROADWAY', u'Extensions': {u'Distances': {u'CallDistanceAlongRoute': 13386.25, u'StopsFromCall': 54, u'PresentableDistance': u'7.4 miles away', u'DistanceFromCall': 11898.61}}, u'ExpectedArrivalTime': u'2018-10-31T00:59:33.203-04:00'}]}, u'DirectionRef': u'0', u'ProgressRate': u'normalProgress'}}, {u'RecordedAtTime': u'2018-10-31T00:12:10.000-04:00', u'MonitoredVehicleJourney': {u'OriginRef': u'MTA_400808', u'Bearing': 336.5879, u'VehicleLocation': {u'Latitude': 40.766205, u'Longitude': -73.977439}, u'SituationRef': [], u'OperatorRef': u'MTA NYCT', u'VehicleRef': u'MTA NYCT_6415', u'BlockRef': u'MTA NYCT_MV_D8-Weekday-SDon_E_MV_30120_M5-222', u'DestinationName': u'31 ST 6 AV', u'DestinationRef': u'MTA_803082', u'JourneyPatternRef': u'MTA_M050421', u'MonitoredCall': {u'VisitNumber': 1, u'StopPointRef': u'MTA_403047', u'ExpectedDepartureTime': u'2018-10-31T00:12:32.035-04:00', u'StopPointName': u'CENTRAL PK S/AVE OF THE AMERICAS', u'Extensions': {u'Distances': {u'CallDistanceAlongRoute': 11162.57, u'StopsFromCall': 0, u'PresentableDistance': u'approaching', u'DistanceFromCall': 103.69}}, u'ExpectedArrivalTime': u'2018-10-31T00:12:32.035-04:00'}, u'LineRef': u'MTA NYCT_M5', u'FramedVehicleJourneyRef': {u'DataFrameRef': u'2018-10-30', u'DatedVehicleJourneyRef': u'MTA NYCT_MV_D8-Weekday-SDon-141000_M4_157'}, u'PublishedLineName': u'M5', u'Monitored': True, u'OnwardCalls': {u'OnwardCall': [{u'StopPointRef': u'MTA_403047', u'StopPointName': u'CENTRAL PK S/AVE OF THE AMERICAS', u'Extensions': {u'Distances': {u'CallDistanceAlongRoute': 11162.57, u'StopsFromCall': 0, u'PresentableDistance': u'approaching', u'DistanceFromCall': 103.69}}, u'ExpectedArrivalTime': u'2018-10-31T00:12:31.035-04:00'}, {u'StopPointRef': u'MTA_402446', u'StopPointName': u'5 AV/W 58 ST', u'Extensions': {u'Distances': {u'CallDistanceAlongRoute': 11591.93, u'StopsFromCall': 1, u'PresentableDistance': u'1 stop away', u'DistanceFromCall': 533.05}}, u'ExpectedArrivalTime': u'2018-10-31T00:14:00.505-04:00'}, {u'StopPointRef': u'MTA_400514', u'StopPointName': u'5 AV/W 52 ST', u'Extensions': {u'Distances': {u'CallDistanceAlongRoute': 12045.59, u'StopsFromCall': 2, u'PresentableDistance': u'0.6 miles away', u'DistanceFromCall': 986.71}}, u'ExpectedArrivalTime': u'2018-10-31T00:15:44.037-04:00'}, {u'StopPointRef': u'MTA_450123', u'StopPointName': u'5 AV/W 50 ST', u'Extensions': {u'Distances': {u'CallDistanceAlongRoute': 12176.53, u'StopsFromCall': 3, u'PresentableDistance': u'0.7 miles away', u'DistanceFromCall': 1117.64}}, u'ExpectedArrivalTime': u'2018-10-31T00:16:29.127-04:00'}, {u'StopPointRef': u'MTA_400516', u'StopPointName': u'5 AV/W 46 ST', u'Extensions': {u'Distances': {u'CallDistanceAlongRoute': 12523.93, u'StopsFromCall': 4, u'PresentableDistance': u'0.9 miles away', u'DistanceFromCall': 1465.05}}, u'ExpectedArrivalTime': u'2018-10-31T00:17:45.416-04:00'}, {u'StopPointRef': u'MTA_405179', u'StopPointName': u'5 AV/W 44 ST', u'Extensions': {u'Distances': {u'CallDistanceAlongRoute': 12686.4, u'StopsFromCall': 5, u'PresentableDistance': u'1.0 miles away', u'DistanceFromCall': 1627.52}}, u'ExpectedArrivalTime': u'2018-10-31T00:18:08.707-04:00'}, {u'StopPointRef': u'MTA_400518', u'StopPointName': u'5 AV/W 41 ST', u'Extensions': {u'Distances': {u'CallDistanceAlongRoute': 12933.62, u'StopsFromCall': 6, u'PresentableDistance': u'1.2 miles away', u'DistanceFromCall': 1874.73}}, u'ExpectedArrivalTime': u'2018-10-31T00:18:58.437-04:00'}, {u'StopPointRef': u'MTA_400322', u'StopPointName': u'5 AV/W 39 ST', u'Extensions': {u'Distances': {u'CallDistanceAlongRoute': 13139.65, u'StopsFromCall': 7, u'PresentableDistance': u'1.3 miles away', u'DistanceFromCall': 2080.77}}, u'ExpectedArrivalTime': u'2018-10-31T00:20:07.545-04:00'}, {u'StopPointRef': u'MTA_400323', u'StopPointName': u'5 AV/W 35 ST', u'Extensions': {u'Distances': {u'CallDistanceAlongRoute': 13372.5, u'StopsFromCall': 8, u'PresentableDistance': u'1.4 miles away', u'DistanceFromCall': 2313.62}}, u'ExpectedArrivalTime': u'2018-10-31T00:20:57.547-04:00'}, {u'StopPointRef': u'MTA_400324', u'StopPointName': u'5 AV/W 33 ST', u'Extensions': {u'Distances': {u'CallDistanceAlongRoute': 13623.19, u'StopsFromCall': 9, u'PresentableDistance': u'1.6 miles away', u'DistanceFromCall': 2564.31}}, u'ExpectedArrivalTime': u'2018-10-31T00:22:15.467-04:00'}, {u'StopPointRef': u'MTA_803082', u'StopPointName': u'W 31 ST/6 AV', u'Extensions': {u'Distances': {u'CallDistanceAlongRoute': 14021.97, u'StopsFromCall': 10, u'PresentableDistance': u'1.8 miles away', u'DistanceFromCall': 2963.09}}, u'ExpectedArrivalTime': u'2018-10-31T00:24:09.235-04:00'}]}, u'DirectionRef': u'1', u'ProgressRate': u'normalProgress'}}, {u'RecordedAtTime': u'2018-10-31T00:12:03.000-04:00', u'MonitoredVehicleJourney': {u'OriginRef': u'MTA_803083', u'Bearing': 85.601295, u'VehicleLocation': {u'Latitude': 40.842207, u'Longitude': -73.939254}, u'SituationRef': [], u'OperatorRef': u'MTA NYCT', u'VehicleRef': u'MTA NYCT_3944', u'BlockRef': u'MTA NYCT_MV_D8-Weekday-SDon_E_MV_27000_M5-216', u'DestinationName': u'WASHINGTON HEIGHTS  GW BRIDGE', u'DestinationRef': u'MTA_903231', u'JourneyPatternRef': u'MTA_M050416', u'MonitoredCall': {u'VisitNumber': 1, u'StopPointRef': u'MTA_400796', u'ExpectedDepartureTime': u'2018-10-31T00:12:39.219-04:00', u'StopPointName': u'BROADWAY/W 171 ST', u'Extensions': {u'Distances': {u'CallDistanceAlongRoute': 12811.74, u'StopsFromCall': 0, u'PresentableDistance': u'approaching', u'DistanceFromCall': 147.08}}, u'ExpectedArrivalTime': u'2018-10-31T00:12:39.219-04:00'}, u'LineRef': u'MTA NYCT_M5', u'FramedVehicleJourneyRef': {u'DataFrameRef': u'2018-10-30', u'DatedVehicleJourneyRef': u'MTA NYCT_MV_D8-Weekday-SDon-140000_M5_238'}, u'PublishedLineName': u'M5', u'Monitored': True, u'OnwardCalls': {u'OnwardCall': [{u'StopPointRef': u'MTA_400796', u'StopPointName': u'BROADWAY/W 171 ST', u'Extensions': {u'Distances': {u'CallDistanceAlongRoute': 12811.74, u'StopsFromCall': 0, u'PresentableDistance': u'approaching', u'DistanceFromCall': 147.08}}, u'ExpectedArrivalTime': u'2018-10-31T00:12:39.219-04:00'}, {u'StopPointRef': u'MTA_402535', u'StopPointName': u'BROADWAY/W 173 ST', u'Extensions': {u'Distances': {u'CallDistanceAlongRoute': 12974.64, u'StopsFromCall': 1, u'PresentableDistance': u'1 stop away', u'DistanceFromCall': 309.98}}, u'ExpectedArrivalTime': u'2018-10-31T00:13:34.906-04:00'}, {u'StopPointRef': u'MTA_400798', u'StopPointName': u'BROADWAY/W 175 ST', u'Extensions': {u'Distances': {u'CallDistanceAlongRoute': 13148.43, u'StopsFromCall': 2, u'PresentableDistance': u'2 stops away', u'DistanceFromCall': 483.77}}, u'ExpectedArrivalTime': u'2018-10-31T00:14:09.906-04:00'}, {u'StopPointRef': u'MTA_903231', u'StopPointName': u'W 178 ST/BROADWAY', u'Extensions': {u'Distances': {u'CallDistanceAlongRoute': 13386.25, u'StopsFromCall': 3, u'PresentableDistance': u'3 stops away', u'DistanceFromCall': 721.59}}, u'ExpectedArrivalTime': u'2018-10-31T00:15:20.695-04:00'}]}, u'DirectionRef': u'0', u'ProgressRate': u'normalProgress'}}], u'ValidUntil': u'2018-10-31T00:13:31.035-04:00', u'ResponseTimestamp': u'2018-10-31T00:12:31.035-04:00'}]}}}\n"
     ]
    }
   ],
   "source": [
    "response = urllib.urlopen(url)\n",
    "data = response.read().decode(\"utf-8\")\n",
    "data = json.loads(data)\n",
    "print (data)"
   ]
  },
  {
   "cell_type": "code",
   "execution_count": 6,
   "metadata": {},
   "outputs": [],
   "source": [
    "Num_bus = len(data['Siri']['ServiceDelivery']['VehicleMonitoringDelivery'][0]['VehicleActivity'])"
   ]
  },
  {
   "cell_type": "code",
   "execution_count": 7,
   "metadata": {},
   "outputs": [
    {
     "name": "stdout",
     "output_type": "stream",
     "text": [
      "3\n",
      "40.759782,-73.980488,AV OF THE AMERICAS/W 50 ST,at stop\n",
      "40.766205,-73.977439,CENTRAL PK S/AVE OF THE AMERICAS,approaching\n",
      "40.842207,-73.939254,BROADWAY/W 171 ST,approaching\n"
     ]
    }
   ],
   "source": [
    "# make bus_status_info function\n",
    "# don't run\n",
    "print(Num_bus)\n",
    "# test print in notebook\n",
    "for i in range(Num_bus):\n",
    "    bus_lat = data['Siri']['ServiceDelivery']['VehicleMonitoringDelivery'][0]['VehicleActivity'][i]['MonitoredVehicleJourney']['VehicleLocation']['Latitude']\n",
    "    bus_lon = data['Siri']['ServiceDelivery']['VehicleMonitoringDelivery'][0]['VehicleActivity'][i]['MonitoredVehicleJourney']['VehicleLocation']['Longitude']\n",
    "    Stop_Name = data['Siri']['ServiceDelivery']['VehicleMonitoringDelivery'][0]['VehicleActivity'][i]['MonitoredVehicleJourney']['OnwardCalls']['OnwardCall'][0]['StopPointName']\n",
    "    Stop_Status = data['Siri']['ServiceDelivery']['VehicleMonitoringDelivery'][0]['VehicleActivity'][i]['MonitoredVehicleJourney']['OnwardCalls']['OnwardCall'][0]['Extensions']['Distances']['PresentableDistance']\n",
    "    print(\"%s,%s,%s,%s\"%(bus_lat,bus_lon,Stop_Name,Stop_Status))\n"
   ]
  },
  {
   "cell_type": "code",
   "execution_count": 8,
   "metadata": {},
   "outputs": [],
   "source": [
    "filename = BUS +\".csv\"\n",
    "\n",
    "# filename will be sys.argv[3]\n",
    "\n",
    "def bus_status_info_csv():          \n",
    "    with open(str(filename),'w') as csv_file:\n",
    "        writer = csv.writer(csv_file)\n",
    "        writer.writerow(['Latitude','Longitude','Stop Name','Stop Status'])\n",
    "        Num_bus = len(data['Siri']['ServiceDelivery']['VehicleMonitoringDelivery'][0]['VehicleActivity'])\n",
    "        if Num_bus == 0:\n",
    "            row = str('No Data')\n",
    "            writer.writerow([row])\n",
    "        else:\n",
    "            for i in range(Num_bus):        \n",
    "                bus_lat = data['Siri']['ServiceDelivery']['VehicleMonitoringDelivery'][0]['VehicleActivity'][i]['MonitoredVehicleJourney']['VehicleLocation']['Latitude']\n",
    "                bus_lon = data['Siri']['ServiceDelivery']['VehicleMonitoringDelivery'][0]['VehicleActivity'][i]['MonitoredVehicleJourney']['VehicleLocation']['Longitude']\n",
    "                checkEmpty = data['Siri']['ServiceDelivery']['VehicleMonitoringDelivery'][0]['VehicleActivity'][i]['MonitoredVehicleJourney']['OnwardCalls']\n",
    "                if len(checkEmpty) == 0:\n",
    "                    Stop_Name = \"N/A\"\n",
    "                    Stop_Status = \"N/A\"\n",
    "                else:  \n",
    "                    Stop_Name = data['Siri']['ServiceDelivery']['VehicleMonitoringDelivery'][0]['VehicleActivity'][i]['MonitoredVehicleJourney']['OnwardCalls']['OnwardCall'][0]['StopPointName']\n",
    "                    Stop_Status = data['Siri']['ServiceDelivery']['VehicleMonitoringDelivery'][0]['VehicleActivity'][i]['MonitoredVehicleJourney']['OnwardCalls']['OnwardCall'][0]['Extensions']['Distances']['PresentableDistance']\n",
    "\n",
    "                # need to convert as str\n",
    "                row = str(bus_lat),str(bus_lon),str(Stop_Name),str(Stop_Status)\n",
    "                writer.writerow(row)\n",
    "\n"
   ]
  },
  {
   "cell_type": "code",
   "execution_count": 9,
   "metadata": {},
   "outputs": [],
   "source": [
    "# test incase the bus route didn't exist\n",
    "try:  \n",
    "    test = data['Siri']['ServiceDelivery']['VehicleMonitoringDelivery'][0]['VehicleActivity']\n",
    "    bus_status_info_csv()\n",
    "except KeyError:\n",
    "    print('No such route')  \n",
    "\n",
    "\n"
   ]
  },
  {
   "cell_type": "code",
   "execution_count": null,
   "metadata": {},
   "outputs": [],
   "source": []
  }
 ],
 "metadata": {
  "kernelspec": {
   "display_name": "PUI2016_Python2",
   "language": "python",
   "name": "pui2016_python2"
  },
  "language_info": {
   "codemirror_mode": {
    "name": "ipython",
    "version": 2
   },
   "file_extension": ".py",
   "mimetype": "text/x-python",
   "name": "python",
   "nbconvert_exporter": "python",
   "pygments_lexer": "ipython2",
   "version": "2.7.12"
  }
 },
 "nbformat": 4,
 "nbformat_minor": 2
}
